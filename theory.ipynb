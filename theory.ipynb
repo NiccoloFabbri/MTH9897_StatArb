{
 "cells": [
  {
   "cell_type": "code",
   "execution_count": 1,
   "id": "52000a36-1bc0-46f2-90ac-ad0fa503624f",
   "metadata": {},
   "outputs": [],
   "source": [
    "import pandas as pd\n",
    "import numpy as np"
   ]
  },
  {
   "cell_type": "markdown",
   "id": "8f804ee7-1ae7-4f4c-a754-9cc7cec7e4a4",
   "metadata": {},
   "source": [
    "1. fare i residuals regression on factors\n",
    "2. Verificare mean reversion dei residual.\n"
   ]
  },
  {
   "cell_type": "markdown",
   "id": "7a01ebfb-aa55-4ca7-9373-b71407b38c2f",
   "metadata": {},
   "source": [
    "## Variables:\n",
    "* Stock ($i$) returns: $R_{i, t}, \\quad i=1, \\dots, N$ or $R_t \\in \\mathbb{R}^N$\n",
    "* Factor ($j$) returns: $f_{j, t}, \\quad j=1, \\dots, p$ or $f_t \\in \\mathbb{R}^p$\n",
    "* Exposures: $X_t \\in \\mathbb{R}^{N\\times p}$ or $X_i \\in \\mathbb{R}^p$, $i = 1, \\dots, N$"
   ]
  },
  {
   "cell_type": "markdown",
   "id": "479a7b60-b537-4b9f-b5cf-d36b00c9c579",
   "metadata": {},
   "source": [
    "At each $t=1, \\dots, T$,\n",
    "$$\n",
    "R_i = f^TX_i + \\tilde{R_i} \\quad \\forall i=1, \\dots, N\n",
    "$$\n",
    "Or:\n",
    "$$\n",
    "R = Xf + \\tilde{R}\n",
    "$$\n",
    "Get\n",
    "$$\n",
    "\\begin{aligned}\n",
    "\\hat{f_t} &= (X^TD^{-1}X)^{-1}X^TD^{-1}R_i \\\\\n",
    "\\hat{\\tilde{R_i}} &= R - X\\hat{f_t}\n",
    "\\end{aligned}\n",
    "$$\n",
    "And we have:\n",
    "$$\n",
    "X^T\\hat{\\tilde{R_i}} = 0 \\in \\mathbb{R}^p\n",
    "$$"
   ]
  },
  {
   "cell_type": "code",
   "execution_count": null,
   "id": "0b22a314-09d5-4c74-90ea-1e85c67be478",
   "metadata": {},
   "outputs": [],
   "source": []
  }
 ],
 "metadata": {
  "kernelspec": {
   "display_name": "Python 3 (ipykernel)",
   "language": "python",
   "name": "python3"
  },
  "language_info": {
   "codemirror_mode": {
    "name": "ipython",
    "version": 3
   },
   "file_extension": ".py",
   "mimetype": "text/x-python",
   "name": "python",
   "nbconvert_exporter": "python",
   "pygments_lexer": "ipython3",
   "version": "3.11.7"
  }
 },
 "nbformat": 4,
 "nbformat_minor": 5
}
